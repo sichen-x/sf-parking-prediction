{
 "cells": [
  {
   "cell_type": "code",
   "execution_count": 1,
   "metadata": {},
   "outputs": [],
   "source": [
    "%matplotlib inline\n",
    "import numpy as np\n",
    "import pandas as pd\n",
    "from pandas.tseries.holiday import USFederalHolidayCalendar as calendar\n",
    "import geocoder\n",
    "import matplotlib.pyplot as plt"
   ]
  },
  {
   "cell_type": "code",
   "execution_count": 2,
   "metadata": {},
   "outputs": [],
   "source": [
    "train = pd.read_csv(\"../project-data/train-parking.csv\")\n",
    "test = pd.read_csv(\"../project-data/test-no-label-parking.csv\")"
   ]
  },
  {
   "cell_type": "markdown",
   "metadata": {},
   "source": [
    "### make manual street fixes where data is to and from the same street"
   ]
  },
  {
   "cell_type": "code",
   "execution_count": 3,
   "metadata": {},
   "outputs": [],
   "source": [
    "#fix streets using tim's manual fix\n",
    "fixed = {'Geary Street,Jones Street,Geary Street':'Geary Street,Jones Street,Leavenworth Street',\n",
    " 'Jones Street,Sutter Street,Jones Street': 'Jones Street,Sutter Street,Post Street',\n",
    " 'Kearny Street,Kearny Street,Columbus Avenue': 'Kearny Street,Jackson Street,Columbus Avenue',\n",
    " 'Kearny Street,Kearny Street,Post Street': 'Kearny Street,Maidne Lane,Post Street',\n",
    " 'Kearny Street,Kearny Street,Sutter Street': 'Kearny Street,Post Street,Sutter Street',\n",
    " 'Larkin Street,Larkin Street,Golden Gate Avenue': 'Larkin Street,Fulton Street,Golden Gate Avenue',\n",
    " \"Larkin Street,O'Farrell Street,Larkin Street\": \"Larkin Street,O'Farrell Street,Myrtle Street\",\n",
    " 'Larkin Street,Sutter Street,Larkin Street': 'Larkin Street,Sutter Street,Bush Street',\n",
    " 'Mason Street,Sutter Street,Mason Street': 'Mason Street,Sutter Street,Bush Street',\n",
    " 'Mission Street,11th Street,Mission Street': 'Mission Street,11th Street,12th Street',\n",
    " 'Montgomery Street,Jackson Street,Montgomery Street': 'Montgomery Street,Jackson Street,Washington Street',\n",
    " 'Montgomery Street,Montgomery Street,Jackson Street': 'Montgomery Street,Pacific Avenue,Jackson Street',\n",
    " 'Montgomery Street,Washington Street,Montgomery Street': 'Montgomery Street,Washington Street,Clay Street',\n",
    " 'Post Street,Kearny Street,Post Street': 'Post Street,Kearny Street,Montgomery Street',\n",
    " 'Stockton Street,Stockton Street,Jackson Street': 'Stockton Street,Washington Street,Jackson Street',\n",
    " 'Stockton Street,Stockton Tunnel,Stockton Street': 'Stockton Street,Stockton Tunnel,Clay Street',\n",
    " 'Sutter Street,Powell Street,Sutter Street': 'Sutter Street,Powell Street,Mason Street',\n",
    " 'Van Ness Avenue,Golden Gate Avenue,Van Ness Avenue': 'Van Ness Avenue,Golden Gate Avenue,Turk Street',\n",
    " 'Van Ness Avenue,Hayes Street,Van Ness Avenue': 'Van Ness Avenue,Hayes Street,Grove Street',\n",
    " 'Van Ness Avenue,McAllister Street,Van Ness Avenue': 'Van Ness Avenue,McAllister Street,Golden Gate Avenue',\n",
    " 'Van Ness Avenue,Van Ness Avenue,Bush Street': 'Van Ness Avenue,Sutter Avenue,Bush Street',\n",
    " 'Van Ness Avenue,Van Ness Avenue,Eddy Street': 'Van Ness Avenue,Turk Street,Eddy Street',\n",
    " 'Van Ness Avenue,Van Ness Avenue,Fell Street': 'Van Ness Avenue,Oak Street,Fell Street',\n",
    " 'Van Ness Avenue,Van Ness Avenue,Golden Gate Avenue': 'Van Ness Avenue,McAllister Street,Golden Gate Avenue',\n",
    " 'Van Ness Avenue,Van Ness Avenue,Grove Street': 'Van Ness Avenue,Hayes Street,Grove Street',\n",
    " 'Van Ness Avenue,Van Ness Avenue,Turk Street': 'Van Ness Avenue,Golden Gate Avenue,Turk Street'}"
   ]
  },
  {
   "cell_type": "code",
   "execution_count": 4,
   "metadata": {},
   "outputs": [],
   "source": [
    "#concatenate into one column\n",
    "train[\"streets_concat\"] = train.Street + \",\" + train.From + \",\" + train.To\n",
    "test[\"streets_concat\"] = test.Street + \",\" + test.From + \",\" + test.To"
   ]
  },
  {
   "cell_type": "code",
   "execution_count": 5,
   "metadata": {},
   "outputs": [],
   "source": [
    "#map dictionaries to data fix streets\n",
    "train['streets_concat'] = train['streets_concat'].map(fixed)\n",
    "test['streets_concat'] = test['streets_concat'].map(fixed)\n",
    "\n",
    "#there are NA's for the good ones -- fill those back\n",
    "train['streets_concat'] = train['streets_concat'].fillna(train.Street + \",\" + train.From + \",\" + train.To)\n",
    "test['streets_concat'] = test['streets_concat'].fillna(test.Street + \",\" + test.From + \",\" + test.To)"
   ]
  },
  {
   "cell_type": "code",
   "execution_count": 6,
   "metadata": {},
   "outputs": [],
   "source": [
    "#replace cols with fixed vals\n",
    "train['Street'] = train['streets_concat'].str.split(\",\", expand=True)[0]\n",
    "train['From'] = train['streets_concat'].str.split(\",\", expand=True)[1]\n",
    "train['To'] = train['streets_concat'].str.split(\",\", expand=True)[2]\n",
    "\n",
    "test['Street'] = test['streets_concat'].str.split(\",\", expand=True)[0]\n",
    "test['From'] = test['streets_concat'].str.split(\",\", expand=True)[1]\n",
    "test['To'] = test['streets_concat'].str.split(\",\", expand=True)[2]"
   ]
  },
  {
   "cell_type": "code",
   "execution_count": 7,
   "metadata": {},
   "outputs": [],
   "source": [
    "#delete unecessary column\n",
    "del train['streets_concat']\n",
    "del test['streets_concat']"
   ]
  },
  {
   "cell_type": "markdown",
   "metadata": {},
   "source": [
    "### get longitude and latitude coordinates of streets"
   ]
  },
  {
   "cell_type": "code",
   "execution_count": 8,
   "metadata": {},
   "outputs": [],
   "source": [
    "#add street_from and street_to intersections for geocoder to use\n",
    "train['street_from'] = train['Street'] + \" & \" + train['From'] + \", San Francisco CA\"\n",
    "train['street_to'] = train['Street'] + \" & \" + train['To'] + \", San Francisco CA\"\n",
    "\n",
    "test['street_from'] = test['Street'] + \" & \" + test['From'] + \", San Francisco CA\"\n",
    "test['street_to'] = test['Street'] + \" & \" + test['To'] + \", San Francisco CA\""
   ]
  },
  {
   "cell_type": "code",
   "execution_count": 9,
   "metadata": {},
   "outputs": [
    {
     "name": "stdout",
     "output_type": "stream",
     "text": [
      "There are 88 unique street-from intersections\n",
      "There are 88 unique street-from intersections in test\n",
      "from dict has 81 entries\n",
      "There are 91 unique street-to intersections\n",
      "There are 91 unique street-to intersections in test\n",
      "to dict has 83 entries\n"
     ]
    }
   ],
   "source": [
    "#build dictionaries of lat/long for street intersections\n",
    "street_from_unique = train['street_from'].unique()\n",
    "street_from_unique_test = test['street_from'].unique()\n",
    "dfrom = dict(zip(street_from_unique, pd.Series(street_from_unique).apply(geocoder.google).apply(lambda x: x.latlng)))\n",
    "dfrom = {k: v for k, v in dfrom.items() if v is not None}\n",
    "print(f'There are {len(street_from_unique)} unique street-from intersections')\n",
    "print(f'There are {len(street_from_unique_test)} unique street-from intersections in test')\n",
    "print(f'from dict has {len(dfrom)} entries')\n",
    "\n",
    "street_to_unique = train['street_to'].unique()\n",
    "street_to_unique_test = train['street_to'].unique()\n",
    "d2 = dict(zip(street_to_unique, pd.Series(street_to_unique).apply(geocoder.google).apply(lambda x: x.latlng)))\n",
    "d2 = {k: v for k, v in d2.items() if v is not None}\n",
    "print(f'There are {len(street_to_unique)} unique street-to intersections')\n",
    "print(f'There are {len(street_to_unique_test)} unique street-to intersections in test')\n",
    "print(f'to dict has {len(d2)} entries')"
   ]
  },
  {
   "cell_type": "code",
   "execution_count": 10,
   "metadata": {},
   "outputs": [],
   "source": [
    "#map dictionaries to data to get lat/long\n",
    "train['coord_from'] = train['street_from'].map(dfrom)\n",
    "\n",
    "train['coord_to'] = train['street_to'].map(d2)"
   ]
  },
  {
   "cell_type": "code",
   "execution_count": 11,
   "metadata": {},
   "outputs": [],
   "source": [
    "#find still empties in street_from and rerun\n",
    "stillempty_from = train[train['coord_from'].isnull()]['street_from'].unique()\n",
    "\n",
    "stillempty_to = train[train['coord_to'].isnull()]['street_to'].unique()"
   ]
  },
  {
   "cell_type": "code",
   "execution_count": 12,
   "metadata": {},
   "outputs": [
    {
     "name": "stdout",
     "output_type": "stream",
     "text": [
      "7\n",
      "8\n"
     ]
    }
   ],
   "source": [
    "print(len(stillempty_from))\n",
    "print(len(stillempty_to))"
   ]
  },
  {
   "cell_type": "markdown",
   "metadata": {},
   "source": [
    "#### deal with street-from"
   ]
  },
  {
   "cell_type": "code",
   "execution_count": 13,
   "metadata": {},
   "outputs": [],
   "source": [
    "new_from = {}\n",
    "still_to_find = []\n",
    "for name in stillempty_from:\n",
    "    g = geocoder.google(name)\n",
    "    if g.latlng is not None:\n",
    "        new_from[name] = g.latlng\n",
    "    else:\n",
    "        still_to_find.append(name)"
   ]
  },
  {
   "cell_type": "code",
   "execution_count": 14,
   "metadata": {},
   "outputs": [
    {
     "name": "stdout",
     "output_type": "stream",
     "text": [
      "6\n",
      "87\n"
     ]
    }
   ],
   "source": [
    "#combine dicts\n",
    "dfrom2 = {**dfrom, **new_from}\n",
    "print(len(new_from))\n",
    "print(len(dfrom2))"
   ]
  },
  {
   "cell_type": "code",
   "execution_count": 15,
   "metadata": {},
   "outputs": [
    {
     "data": {
      "text/plain": [
       "['Taylor Street & Turk Street, San Francisco CA']"
      ]
     },
     "execution_count": 15,
     "metadata": {},
     "output_type": "execute_result"
    }
   ],
   "source": [
    "still_to_find"
   ]
  },
  {
   "cell_type": "code",
   "execution_count": 16,
   "metadata": {},
   "outputs": [],
   "source": [
    "new_from = {}\n",
    "still_to_find2 = []\n",
    "for name in still_to_find:\n",
    "    g = geocoder.google(name)\n",
    "    if g.latlng is not None:\n",
    "        new_from[name] = g.latlng\n",
    "    else:\n",
    "        still_to_find2.append(name)"
   ]
  },
  {
   "cell_type": "code",
   "execution_count": 17,
   "metadata": {},
   "outputs": [
    {
     "name": "stdout",
     "output_type": "stream",
     "text": [
      "1\n",
      "88\n"
     ]
    }
   ],
   "source": [
    "#combine dicts\n",
    "dfrom3 = {**dfrom2, **new_from}\n",
    "print(len(new_from))\n",
    "print(len(dfrom3))"
   ]
  },
  {
   "cell_type": "code",
   "execution_count": 18,
   "metadata": {},
   "outputs": [],
   "source": [
    "new_from = {}\n",
    "still_to_find3 = []\n",
    "for name in still_to_find2:\n",
    "    g = geocoder.google(name)\n",
    "    if g.latlng is not None:\n",
    "        new_from[name] = g.latlng\n",
    "    else:\n",
    "        still_to_find3.append(name)"
   ]
  },
  {
   "cell_type": "code",
   "execution_count": 19,
   "metadata": {},
   "outputs": [
    {
     "name": "stdout",
     "output_type": "stream",
     "text": [
      "0\n",
      "88\n"
     ]
    }
   ],
   "source": [
    "#combine dicts\n",
    "dfrom4 = {**dfrom3, **new_from}\n",
    "print(len(new_from))\n",
    "print(len(dfrom4))"
   ]
  },
  {
   "cell_type": "code",
   "execution_count": 20,
   "metadata": {},
   "outputs": [
    {
     "data": {
      "text/plain": [
       "[]"
      ]
     },
     "execution_count": 20,
     "metadata": {},
     "output_type": "execute_result"
    }
   ],
   "source": [
    "still_to_find3"
   ]
  },
  {
   "cell_type": "markdown",
   "metadata": {},
   "source": [
    "#### deal with street-to"
   ]
  },
  {
   "cell_type": "code",
   "execution_count": 21,
   "metadata": {},
   "outputs": [],
   "source": [
    "new_to = {}\n",
    "still_to_find = []\n",
    "for name in stillempty_to:\n",
    "    g = geocoder.google(name)\n",
    "    if g.latlng is not None:\n",
    "        new_to[name] = g.latlng\n",
    "    else:\n",
    "        still_to_find.append(name)"
   ]
  },
  {
   "cell_type": "code",
   "execution_count": 22,
   "metadata": {},
   "outputs": [
    {
     "name": "stdout",
     "output_type": "stream",
     "text": [
      "8\n",
      "91\n"
     ]
    }
   ],
   "source": [
    "#combine dicts\n",
    "dto2 = {**d2, **new_to}\n",
    "print(len(new_to))\n",
    "print(len(dto2))"
   ]
  },
  {
   "cell_type": "code",
   "execution_count": 23,
   "metadata": {},
   "outputs": [],
   "source": [
    "new_to = {}\n",
    "still_to_find2 = []\n",
    "for name in still_to_find:\n",
    "    g = geocoder.google(name)\n",
    "    if g.latlng is not None:\n",
    "        new_to[name] = g.latlng\n",
    "    else:\n",
    "        still_to_find2.append(name)\n"
   ]
  },
  {
   "cell_type": "code",
   "execution_count": 24,
   "metadata": {},
   "outputs": [
    {
     "name": "stdout",
     "output_type": "stream",
     "text": [
      "0\n",
      "91\n"
     ]
    }
   ],
   "source": [
    "#combine dicts\n",
    "dto3 = {**dto2, **new_to}\n",
    "print(len(new_to))\n",
    "print(len(dto3))"
   ]
  },
  {
   "cell_type": "code",
   "execution_count": 25,
   "metadata": {},
   "outputs": [],
   "source": [
    "new_to = {}\n",
    "still_to_find3 = []\n",
    "for name in still_to_find2:\n",
    "    g = geocoder.google(name)\n",
    "    if g.latlng is not None:\n",
    "        new_to[name] = g.latlng\n",
    "    else:\n",
    "        still_to_find3.append(name)"
   ]
  },
  {
   "cell_type": "code",
   "execution_count": 26,
   "metadata": {},
   "outputs": [
    {
     "data": {
      "text/plain": [
       "91"
      ]
     },
     "execution_count": 26,
     "metadata": {},
     "output_type": "execute_result"
    }
   ],
   "source": [
    "#combine dicts\n",
    "dto4 = {**dto3, **new_from}\n",
    "len(dto4)"
   ]
  },
  {
   "cell_type": "code",
   "execution_count": 27,
   "metadata": {},
   "outputs": [
    {
     "data": {
      "text/plain": [
       "[]"
      ]
     },
     "execution_count": 27,
     "metadata": {},
     "output_type": "execute_result"
    }
   ],
   "source": [
    "still_to_find2"
   ]
  },
  {
   "cell_type": "markdown",
   "metadata": {},
   "source": [
    "#### map dicts to data"
   ]
  },
  {
   "cell_type": "code",
   "execution_count": 28,
   "metadata": {},
   "outputs": [
    {
     "name": "stdout",
     "output_type": "stream",
     "text": [
      "88\n",
      "88\n",
      "91\n",
      "91\n"
     ]
    }
   ],
   "source": [
    "#create dictionary for each coordinate\n",
    "dfrom_lat = dict(zip(dfrom4.keys(),[dfrom4[k][0] for k in dfrom4]))\n",
    "dfrom_long = dict(zip(dfrom4.keys(),[dfrom4[k][1] for k in dfrom4]))\n",
    "print(len(dfrom_lat))\n",
    "print(len(dfrom_long))\n",
    "\n",
    "dto_lat = dict(zip(dto4.keys(),[dto4[k][0] for k in dto4]))\n",
    "dto_long = dict(zip(dto4.keys(),[dto4[k][1] for k in dto4]))\n",
    "print(len(dto_lat))\n",
    "print(len(dto_long))"
   ]
  },
  {
   "cell_type": "code",
   "execution_count": 29,
   "metadata": {},
   "outputs": [],
   "source": [
    "#map dictionaries to data to get lat/long\n",
    "train['from_lat'] = train['street_from'].map(dfrom_lat)\n",
    "test['from_lat'] = test['street_from'].map(dfrom_lat)\n",
    "\n",
    "train['from_long'] = train['street_from'].map(dfrom_long)\n",
    "test['from_long'] = test['street_from'].map(dfrom_long)\n",
    "\n",
    "train['to_lat'] = train['street_to'].map(dto_lat)\n",
    "test['to_lat'] = test['street_to'].map(dto_lat)\n",
    "\n",
    "train['to_long'] = train['street_to'].map(dto_long) \n",
    "test['to_long'] = test['street_to'].map(dto_long) "
   ]
  },
  {
   "cell_type": "code",
   "execution_count": 30,
   "metadata": {},
   "outputs": [
    {
     "data": {
      "text/plain": [
       "array([], dtype=object)"
      ]
     },
     "execution_count": 30,
     "metadata": {},
     "output_type": "execute_result"
    }
   ],
   "source": [
    "#check to make sure everything got filled\n",
    "train[train['from_lat'].isnull()]['street_to'].unique()"
   ]
  },
  {
   "cell_type": "markdown",
   "metadata": {},
   "source": [
    "#### add block midpoint"
   ]
  },
  {
   "cell_type": "code",
   "execution_count": 37,
   "metadata": {},
   "outputs": [
    {
     "data": {
      "text/html": [
       "<div>\n",
       "<style scoped>\n",
       "    .dataframe tbody tr th:only-of-type {\n",
       "        vertical-align: middle;\n",
       "    }\n",
       "\n",
       "    .dataframe tbody tr th {\n",
       "        vertical-align: top;\n",
       "    }\n",
       "\n",
       "    .dataframe thead th {\n",
       "        text-align: right;\n",
       "    }\n",
       "</style>\n",
       "<table border=\"1\" class=\"dataframe\">\n",
       "  <thead>\n",
       "    <tr style=\"text-align: right;\">\n",
       "      <th></th>\n",
       "      <th>Street</th>\n",
       "      <th>From</th>\n",
       "      <th>To</th>\n",
       "      <th>Date</th>\n",
       "      <th>Time</th>\n",
       "      <th>Street.Length</th>\n",
       "      <th>street_from</th>\n",
       "      <th>street_to</th>\n",
       "      <th>from_lat</th>\n",
       "      <th>from_long</th>\n",
       "      <th>to_lat</th>\n",
       "      <th>to_long</th>\n",
       "      <th>block_coord</th>\n",
       "      <th>block_lat</th>\n",
       "      <th>block_long</th>\n",
       "    </tr>\n",
       "  </thead>\n",
       "  <tbody>\n",
       "    <tr>\n",
       "      <th>0</th>\n",
       "      <td>Stockton Street</td>\n",
       "      <td>Stockton Tunnel</td>\n",
       "      <td>Clay Street</td>\n",
       "      <td>3/28/2014</td>\n",
       "      <td>16:34</td>\n",
       "      <td>35.786472</td>\n",
       "      <td>Stockton Street &amp; Stockton Tunnel, San Francis...</td>\n",
       "      <td>Stockton Street &amp; Clay Street, San Francisco CA</td>\n",
       "      <td>37.792771</td>\n",
       "      <td>-122.407649</td>\n",
       "      <td>37.794064</td>\n",
       "      <td>-122.407922</td>\n",
       "      <td>[37.7934179, -122.40778505]</td>\n",
       "      <td>37.793418</td>\n",
       "      <td>-122.407785</td>\n",
       "    </tr>\n",
       "    <tr>\n",
       "      <th>1</th>\n",
       "      <td>Van Ness Avenue</td>\n",
       "      <td>Hayes Street</td>\n",
       "      <td>Grove Street</td>\n",
       "      <td>3/28/2014</td>\n",
       "      <td>21:34</td>\n",
       "      <td>63.787968</td>\n",
       "      <td>Van Ness Avenue &amp; Hayes Street, San Francisco CA</td>\n",
       "      <td>Van Ness Avenue &amp; Grove Street, San Francisco CA</td>\n",
       "      <td>37.777313</td>\n",
       "      <td>-122.419633</td>\n",
       "      <td>37.778279</td>\n",
       "      <td>-122.419829</td>\n",
       "      <td>[37.777795600000005, -122.4197312]</td>\n",
       "      <td>37.777796</td>\n",
       "      <td>-122.419731</td>\n",
       "    </tr>\n",
       "    <tr>\n",
       "      <th>2</th>\n",
       "      <td>Van Ness Avenue</td>\n",
       "      <td>McAllister Street</td>\n",
       "      <td>Golden Gate Avenue</td>\n",
       "      <td>3/28/2014</td>\n",
       "      <td>19:50</td>\n",
       "      <td>56.007236</td>\n",
       "      <td>Van Ness Avenue &amp; McAllister Street, San Franc...</td>\n",
       "      <td>Van Ness Avenue &amp; Golden Gate Avenue, San Fran...</td>\n",
       "      <td>37.780095</td>\n",
       "      <td>-122.420190</td>\n",
       "      <td>37.781046</td>\n",
       "      <td>-122.420392</td>\n",
       "      <td>[37.7805708, -122.42029124999999]</td>\n",
       "      <td>37.780571</td>\n",
       "      <td>-122.420291</td>\n",
       "    </tr>\n",
       "    <tr>\n",
       "      <th>3</th>\n",
       "      <td>Mission Street</td>\n",
       "      <td>11th Street</td>\n",
       "      <td>12th Street</td>\n",
       "      <td>3/28/2014</td>\n",
       "      <td>20:02</td>\n",
       "      <td>139.651900</td>\n",
       "      <td>Mission Street &amp; 11th Street, San Francisco CA</td>\n",
       "      <td>Mission Street &amp; 12th Street, San Francisco CA</td>\n",
       "      <td>37.774332</td>\n",
       "      <td>-122.417137</td>\n",
       "      <td>37.773067</td>\n",
       "      <td>-122.418720</td>\n",
       "      <td>[37.77369985, -122.41792865]</td>\n",
       "      <td>37.773700</td>\n",
       "      <td>-122.417929</td>\n",
       "    </tr>\n",
       "    <tr>\n",
       "      <th>4</th>\n",
       "      <td>Hyde Street</td>\n",
       "      <td>Golden Gate Avenue</td>\n",
       "      <td>McAllister Street</td>\n",
       "      <td>3/28/2014</td>\n",
       "      <td>19:43</td>\n",
       "      <td>105.144110</td>\n",
       "      <td>Hyde Street &amp; Golden Gate Avenue, San Francisc...</td>\n",
       "      <td>Hyde Street &amp; McAllister Street, San Francisco CA</td>\n",
       "      <td>37.781668</td>\n",
       "      <td>-122.415524</td>\n",
       "      <td>37.780706</td>\n",
       "      <td>-122.415334</td>\n",
       "      <td>[37.781187, -122.41542895]</td>\n",
       "      <td>37.781187</td>\n",
       "      <td>-122.415429</td>\n",
       "    </tr>\n",
       "  </tbody>\n",
       "</table>\n",
       "</div>"
      ],
      "text/plain": [
       "            Street                From                  To       Date   Time  \\\n",
       "0  Stockton Street     Stockton Tunnel         Clay Street  3/28/2014  16:34   \n",
       "1  Van Ness Avenue        Hayes Street        Grove Street  3/28/2014  21:34   \n",
       "2  Van Ness Avenue   McAllister Street  Golden Gate Avenue  3/28/2014  19:50   \n",
       "3   Mission Street         11th Street         12th Street  3/28/2014  20:02   \n",
       "4      Hyde Street  Golden Gate Avenue   McAllister Street  3/28/2014  19:43   \n",
       "\n",
       "   Street.Length                                        street_from  \\\n",
       "0      35.786472  Stockton Street & Stockton Tunnel, San Francis...   \n",
       "1      63.787968   Van Ness Avenue & Hayes Street, San Francisco CA   \n",
       "2      56.007236  Van Ness Avenue & McAllister Street, San Franc...   \n",
       "3     139.651900     Mission Street & 11th Street, San Francisco CA   \n",
       "4     105.144110  Hyde Street & Golden Gate Avenue, San Francisc...   \n",
       "\n",
       "                                           street_to   from_lat   from_long  \\\n",
       "0    Stockton Street & Clay Street, San Francisco CA  37.792771 -122.407649   \n",
       "1   Van Ness Avenue & Grove Street, San Francisco CA  37.777313 -122.419633   \n",
       "2  Van Ness Avenue & Golden Gate Avenue, San Fran...  37.780095 -122.420190   \n",
       "3     Mission Street & 12th Street, San Francisco CA  37.774332 -122.417137   \n",
       "4  Hyde Street & McAllister Street, San Francisco CA  37.781668 -122.415524   \n",
       "\n",
       "      to_lat     to_long                         block_coord  block_lat  \\\n",
       "0  37.794064 -122.407922         [37.7934179, -122.40778505]  37.793418   \n",
       "1  37.778279 -122.419829  [37.777795600000005, -122.4197312]  37.777796   \n",
       "2  37.781046 -122.420392   [37.7805708, -122.42029124999999]  37.780571   \n",
       "3  37.773067 -122.418720        [37.77369985, -122.41792865]  37.773700   \n",
       "4  37.780706 -122.415334          [37.781187, -122.41542895]  37.781187   \n",
       "\n",
       "   block_long  \n",
       "0 -122.407785  \n",
       "1 -122.419731  \n",
       "2 -122.420291  \n",
       "3 -122.417929  \n",
       "4 -122.415429  "
      ]
     },
     "execution_count": 37,
     "metadata": {},
     "output_type": "execute_result"
    }
   ],
   "source": [
    "test.head()"
   ]
  },
  {
   "cell_type": "code",
   "execution_count": 33,
   "metadata": {},
   "outputs": [],
   "source": [
    "#add midpoint\n",
    "def midpoint(train):\n",
    "    return ([(train[\"from_lat\"] + train[\"to_lat\"])/2, (train[\"from_long\"] + train[\"to_long\"])/2])\n",
    "\n",
    "train['block_coord'] = train.apply(midpoint, axis=1)\n",
    "train[['block_lat','block_long']] = pd.DataFrame(train['block_coord'].values.tolist(), index= train.index)"
   ]
  },
  {
   "cell_type": "code",
   "execution_count": 34,
   "metadata": {},
   "outputs": [],
   "source": [
    "#add midpoint\n",
    "def midpoint(test):\n",
    "    return ([(test[\"from_lat\"] + test[\"to_lat\"])/2, (test[\"from_long\"] + test[\"to_long\"])/2])\n",
    "\n",
    "test['block_coord'] = test.apply(midpoint, axis=1)\n",
    "test[['block_lat','block_long']] = pd.DataFrame(test['block_coord'].values.tolist(), index= test.index)"
   ]
  },
  {
   "cell_type": "code",
   "execution_count": 39,
   "metadata": {},
   "outputs": [],
   "source": [
    "#train = train.drop(['coord_from','coord_to','block_coord'], axis = 1)\n",
    "#test = test.drop(['block_coord'], axis = 1)"
   ]
  },
  {
   "cell_type": "markdown",
   "metadata": {},
   "source": [
    "### export to csv"
   ]
  },
  {
   "cell_type": "code",
   "execution_count": 42,
   "metadata": {
    "scrolled": true
   },
   "outputs": [],
   "source": [
    "train.to_csv(\"./geocoded_train.csv\", index = False) \n",
    "test.to_csv(\"./geocoded_test.csv\", index = False) "
   ]
  },
  {
   "cell_type": "code",
   "execution_count": null,
   "metadata": {},
   "outputs": [],
   "source": []
  }
 ],
 "metadata": {
  "kernelspec": {
   "display_name": "Python 3",
   "language": "python",
   "name": "python3"
  },
  "language_info": {
   "codemirror_mode": {
    "name": "ipython",
    "version": 3
   },
   "file_extension": ".py",
   "mimetype": "text/x-python",
   "name": "python",
   "nbconvert_exporter": "python",
   "pygments_lexer": "ipython3",
   "version": "3.6.3"
  }
 },
 "nbformat": 4,
 "nbformat_minor": 2
}
