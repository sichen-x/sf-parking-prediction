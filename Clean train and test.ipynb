{
 "cells": [
  {
   "cell_type": "code",
   "execution_count": 1,
   "metadata": {},
   "outputs": [],
   "source": [
    "%matplotlib inline\n",
    "import numpy as np\n",
    "import pandas as pd\n",
    "from pandas.tseries.holiday import USFederalHolidayCalendar as calendar\n",
    "import geocoder\n",
    "import matplotlib.pyplot as plt"
   ]
  },
  {
   "cell_type": "code",
   "execution_count": 2,
   "metadata": {},
   "outputs": [],
   "source": [
    "#read in GEOCODED data\n",
    "train = pd.read_csv(\"./geocoded_train.csv\")\n",
    "test = pd.read_csv(\"./geocoded_test.csv\")"
   ]
  },
  {
   "cell_type": "code",
   "execution_count": 4,
   "metadata": {},
   "outputs": [
    {
     "data": {
      "text/html": [
       "<div>\n",
       "<style scoped>\n",
       "    .dataframe tbody tr th:only-of-type {\n",
       "        vertical-align: middle;\n",
       "    }\n",
       "\n",
       "    .dataframe tbody tr th {\n",
       "        vertical-align: top;\n",
       "    }\n",
       "\n",
       "    .dataframe thead th {\n",
       "        text-align: right;\n",
       "    }\n",
       "</style>\n",
       "<table border=\"1\" class=\"dataframe\">\n",
       "  <thead>\n",
       "    <tr style=\"text-align: right;\">\n",
       "      <th></th>\n",
       "      <th>Street</th>\n",
       "      <th>From</th>\n",
       "      <th>To</th>\n",
       "      <th>Date</th>\n",
       "      <th>Time</th>\n",
       "      <th>Street.Length</th>\n",
       "      <th>street_from</th>\n",
       "      <th>street_to</th>\n",
       "      <th>from_lat</th>\n",
       "      <th>from_long</th>\n",
       "      <th>to_lat</th>\n",
       "      <th>to_long</th>\n",
       "      <th>block_lat</th>\n",
       "      <th>block_long</th>\n",
       "    </tr>\n",
       "  </thead>\n",
       "  <tbody>\n",
       "    <tr>\n",
       "      <th>0</th>\n",
       "      <td>Stockton Street</td>\n",
       "      <td>Stockton Tunnel</td>\n",
       "      <td>Clay Street</td>\n",
       "      <td>3/28/2014</td>\n",
       "      <td>16:34</td>\n",
       "      <td>35.786472</td>\n",
       "      <td>Stockton Street &amp; Stockton Tunnel, San Francis...</td>\n",
       "      <td>Stockton Street &amp; Clay Street, San Francisco CA</td>\n",
       "      <td>37.792771</td>\n",
       "      <td>-122.407649</td>\n",
       "      <td>37.794064</td>\n",
       "      <td>-122.407922</td>\n",
       "      <td>37.793418</td>\n",
       "      <td>-122.407785</td>\n",
       "    </tr>\n",
       "    <tr>\n",
       "      <th>1</th>\n",
       "      <td>Van Ness Avenue</td>\n",
       "      <td>Hayes Street</td>\n",
       "      <td>Grove Street</td>\n",
       "      <td>3/28/2014</td>\n",
       "      <td>21:34</td>\n",
       "      <td>63.787968</td>\n",
       "      <td>Van Ness Avenue &amp; Hayes Street, San Francisco CA</td>\n",
       "      <td>Van Ness Avenue &amp; Grove Street, San Francisco CA</td>\n",
       "      <td>37.777313</td>\n",
       "      <td>-122.419633</td>\n",
       "      <td>37.778279</td>\n",
       "      <td>-122.419829</td>\n",
       "      <td>37.777796</td>\n",
       "      <td>-122.419731</td>\n",
       "    </tr>\n",
       "    <tr>\n",
       "      <th>2</th>\n",
       "      <td>Van Ness Avenue</td>\n",
       "      <td>McAllister Street</td>\n",
       "      <td>Golden Gate Avenue</td>\n",
       "      <td>3/28/2014</td>\n",
       "      <td>19:50</td>\n",
       "      <td>56.007236</td>\n",
       "      <td>Van Ness Avenue &amp; McAllister Street, San Franc...</td>\n",
       "      <td>Van Ness Avenue &amp; Golden Gate Avenue, San Fran...</td>\n",
       "      <td>37.780095</td>\n",
       "      <td>-122.420190</td>\n",
       "      <td>37.781046</td>\n",
       "      <td>-122.420392</td>\n",
       "      <td>37.780571</td>\n",
       "      <td>-122.420291</td>\n",
       "    </tr>\n",
       "  </tbody>\n",
       "</table>\n",
       "</div>"
      ],
      "text/plain": [
       "            Street               From                  To       Date   Time  \\\n",
       "0  Stockton Street    Stockton Tunnel         Clay Street  3/28/2014  16:34   \n",
       "1  Van Ness Avenue       Hayes Street        Grove Street  3/28/2014  21:34   \n",
       "2  Van Ness Avenue  McAllister Street  Golden Gate Avenue  3/28/2014  19:50   \n",
       "\n",
       "   Street.Length                                        street_from  \\\n",
       "0      35.786472  Stockton Street & Stockton Tunnel, San Francis...   \n",
       "1      63.787968   Van Ness Avenue & Hayes Street, San Francisco CA   \n",
       "2      56.007236  Van Ness Avenue & McAllister Street, San Franc...   \n",
       "\n",
       "                                           street_to   from_lat   from_long  \\\n",
       "0    Stockton Street & Clay Street, San Francisco CA  37.792771 -122.407649   \n",
       "1   Van Ness Avenue & Grove Street, San Francisco CA  37.777313 -122.419633   \n",
       "2  Van Ness Avenue & Golden Gate Avenue, San Fran...  37.780095 -122.420190   \n",
       "\n",
       "      to_lat     to_long  block_lat  block_long  \n",
       "0  37.794064 -122.407922  37.793418 -122.407785  \n",
       "1  37.778279 -122.419829  37.777796 -122.419731  \n",
       "2  37.781046 -122.420392  37.780571 -122.420291  "
      ]
     },
     "execution_count": 4,
     "metadata": {},
     "output_type": "execute_result"
    }
   ],
   "source": [
    "test.head(3)"
   ]
  },
  {
   "cell_type": "code",
   "execution_count": 5,
   "metadata": {},
   "outputs": [],
   "source": [
    "# Fix date format\n",
    "train['Date'] = pd.to_datetime(train['Date'],infer_datetime_format=True)\n",
    "test['Date'] = pd.to_datetime(test['Date'],infer_datetime_format=True)"
   ]
  },
  {
   "cell_type": "code",
   "execution_count": 6,
   "metadata": {},
   "outputs": [],
   "source": [
    "# Add date features\n",
    "train['hour'] = pd.to_datetime(train['Time'], format='%H:%M').dt.hour\n",
    "test['hour'] = pd.to_datetime(test['Time'], format='%H:%M').dt.hour\n",
    "\n",
    "train['month'] = pd.to_datetime(train['Date'],format=\"%Y-%m-%d\").dt.month\n",
    "test['month'] = pd.to_datetime(test['Date'],format=\"%Y-%m-%d\").dt.month\n",
    "\n",
    "train['dayofweek'] = pd.to_datetime(train['Date'],format=\"%Y-%m-%d\").dt.weekday\n",
    "test['dayofweek'] = pd.to_datetime(test['Date'],format=\"%Y-%m-%d\").dt.weekday\n",
    "\n",
    "train['is_weekend'] = ((pd.DatetimeIndex(train['Date']).dayofweek) // 5 == 1).astype(int)\n",
    "test['is_weekend'] = ((pd.DatetimeIndex(test['Date']).dayofweek) // 5 == 1).astype(int)"
   ]
  },
  {
   "cell_type": "code",
   "execution_count": 8,
   "metadata": {},
   "outputs": [
    {
     "data": {
      "text/plain": [
       "Street           0\n",
       "From             0\n",
       "To               0\n",
       "Date             0\n",
       "Time             0\n",
       "Real.Spots       0\n",
       "Street.Length    0\n",
       "any_spot         0\n",
       "street_from      0\n",
       "street_to        0\n",
       "from_lat         0\n",
       "from_long        0\n",
       "to_lat           0\n",
       "to_long          0\n",
       "block_lat        0\n",
       "block_long       0\n",
       "hour             0\n",
       "month            0\n",
       "dayofweek        0\n",
       "is_weekend       0\n",
       "dtype: int64"
      ]
     },
     "execution_count": 8,
     "metadata": {},
     "output_type": "execute_result"
    }
   ],
   "source": [
    "#check nulls\n",
    "train.isnull().sum()"
   ]
  },
  {
   "cell_type": "code",
   "execution_count": 9,
   "metadata": {},
   "outputs": [
    {
     "data": {
      "text/plain": [
       "Street           0\n",
       "From             0\n",
       "To               0\n",
       "Date             0\n",
       "Time             0\n",
       "Street.Length    0\n",
       "street_from      0\n",
       "street_to        0\n",
       "from_lat         0\n",
       "from_long        0\n",
       "to_lat           0\n",
       "to_long          0\n",
       "block_lat        0\n",
       "block_long       0\n",
       "hour             0\n",
       "month            0\n",
       "dayofweek        0\n",
       "is_weekend       0\n",
       "dtype: int64"
      ]
     },
     "execution_count": 9,
     "metadata": {},
     "output_type": "execute_result"
    }
   ],
   "source": [
    "test.isnull().sum()"
   ]
  },
  {
   "cell_type": "code",
   "execution_count": 12,
   "metadata": {},
   "outputs": [],
   "source": [
    "train.to_csv(\"./cleaned_train.csv\")\n",
    "test.to_csv(\"./cleaned_test.csv\")"
   ]
  },
  {
   "cell_type": "code",
   "execution_count": null,
   "metadata": {},
   "outputs": [],
   "source": []
  },
  {
   "cell_type": "code",
   "execution_count": null,
   "metadata": {},
   "outputs": [],
   "source": []
  }
 ],
 "metadata": {
  "kernelspec": {
   "display_name": "Python 3",
   "language": "python",
   "name": "python3"
  },
  "language_info": {
   "codemirror_mode": {
    "name": "ipython",
    "version": 3
   },
   "file_extension": ".py",
   "mimetype": "text/x-python",
   "name": "python",
   "nbconvert_exporter": "python",
   "pygments_lexer": "ipython3",
   "version": "3.6.3"
  }
 },
 "nbformat": 4,
 "nbformat_minor": 2
}
